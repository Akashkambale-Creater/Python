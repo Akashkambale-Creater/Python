{
 "cells": [
  {
   "cell_type": "markdown",
   "metadata": {
    "colab_type": "text",
    "id": "EYIOPolVx_ON"
   },
   "source": [
    "\n",
    " 1. Write a function to compute 5/0 and use try/except to catch the exceptions."
   ]
  },
  {
   "cell_type": "code",
   "execution_count": 1,
   "metadata": {
    "colab": {
     "base_uri": "https://localhost:8080/",
     "height": 35
    },
    "colab_type": "code",
    "executionInfo": {
     "elapsed": 1223,
     "status": "ok",
     "timestamp": 1592674249519,
     "user": {
      "displayName": "Akash Kambale",
      "photoUrl": "",
      "userId": "14874975310828514712"
     },
     "user_tz": -330
    },
    "id": "zuMs0eh6xxxu",
    "outputId": "b52087c7-cfe1-46e0-e2f2-b96714ce35b7"
   },
   "outputs": [
    {
     "name": "stdout",
     "output_type": "stream",
     "text": [
      "Handle run-time  division by zero\n"
     ]
    }
   ],
   "source": [
    "def divide_by_zero():\n",
    "    return 5/0\n",
    "\n",
    "\n",
    "try:\n",
    "    divide_by_zero()\n",
    "except ZeroDivisionError as e:\n",
    "    print(\"Handle run-time \", e)"
   ]
  },
  {
   "cell_type": "code",
   "execution_count": 2,
   "metadata": {
    "colab": {
     "base_uri": "https://localhost:8080/",
     "height": 35
    },
    "colab_type": "code",
    "executionInfo": {
     "elapsed": 1177,
     "status": "ok",
     "timestamp": 1592674254221,
     "user": {
      "displayName": "Akash Kambale",
      "photoUrl": "",
      "userId": "14874975310828514712"
     },
     "user_tz": -330
    },
    "id": "N31HBq2Ux_xu",
    "outputId": "5fd7d51d-bc22-4477-c720-2ced49c2cece"
   },
   "outputs": [
    {
     "name": "stdout",
     "output_type": "stream",
     "text": [
      "division by zero\n"
     ]
    }
   ],
   "source": [
    "def divide_by_zero():\n",
    "    return 5/0\n",
    "\n",
    "\n",
    "try:\n",
    "    divide_by_zero()\n",
    "except Exception as e:\n",
    "    print(e)"
   ]
  },
  {
   "cell_type": "markdown",
   "metadata": {
    "colab_type": "text",
    "id": "iXD_XvTOyLwf"
   },
   "source": [
    "2. Implement a Python program to generate all sentences where subject is in [\"Americans\", \"Indians\"] and verb is in [\"Play\", \"watch\"] and the object is in [\"Baseball\",\"cricket\"]. \n",
    " \n",
    "Hint: Subject,Verb and Object should be declared in the program as shown below. \n",
    " \n",
    "subjects=[\"Americans \",\"Indians\"] \n",
    "\n",
    " verbs=[\"play\",\"watch\"] \n",
    "\n",
    " objects=[\"Baseball\",\"Cricket\"] \n",
    " \n",
    "Output should come as below: \n",
    " \n",
    "Americans play Baseball. \n",
    "\n",
    " Americans play Cricket. \n",
    "\n",
    " Americans watch Baseball. \n",
    "\n",
    " Americans watch Cricket. \n",
    "\n",
    " Indians play Baseball. \n",
    "\n",
    " Indians play Cricket. \n",
    "\n",
    " Indians watch Baseball. \n",
    " \n",
    " Indians watch Cricket. "
   ]
  },
  {
   "cell_type": "code",
   "execution_count": 3,
   "metadata": {
    "colab": {
     "base_uri": "https://localhost:8080/",
     "height": 162
    },
    "colab_type": "code",
    "executionInfo": {
     "elapsed": 1162,
     "status": "ok",
     "timestamp": 1592674323768,
     "user": {
      "displayName": "Akash Kambale",
      "photoUrl": "",
      "userId": "14874975310828514712"
     },
     "user_tz": -330
    },
    "id": "YB6rPWPfyHiR",
    "outputId": "09f1ac8f-d1b0-488e-b818-0fb692b023d3"
   },
   "outputs": [
    {
     "name": "stdout",
     "output_type": "stream",
     "text": [
      "Americans Play Baseball\n",
      "Americans Play cricket\n",
      "Americans watch Baseball\n",
      "Americans watch cricket\n",
      "Indians Play Baseball\n",
      "Indians Play cricket\n",
      "Indians watch Baseball\n",
      "Indians watch cricket\n"
     ]
    }
   ],
   "source": [
    "subject=[\"Americans\", \"Indians\"]\n",
    "verb=[\"Play\", \"watch\"]\n",
    "obj=[\"Baseball\",\"cricket\"]\n",
    "\n",
    "# By List Comprenssion\n",
    "sentence_list = [(sub+\" \"+ vb + \" \" + ob) for sub in subject for vb in verb for ob in obj]\n",
    "for sentence in sentence_list:\n",
    "    print (sentence)"
   ]
  },
  {
   "cell_type": "code",
   "execution_count": 4,
   "metadata": {
    "colab": {
     "base_uri": "https://localhost:8080/",
     "height": 162
    },
    "colab_type": "code",
    "executionInfo": {
     "elapsed": 1069,
     "status": "ok",
     "timestamp": 1592674333119,
     "user": {
      "displayName": "Akash Kambale",
      "photoUrl": "",
      "userId": "14874975310828514712"
     },
     "user_tz": -330
    },
    "id": "DFE48scuyYhV",
    "outputId": "5f1fdb96-3660-4e86-b54a-abf15930d1a5"
   },
   "outputs": [
    {
     "name": "stdout",
     "output_type": "stream",
     "text": [
      "Americans Play Baseball\n",
      "Americans Play cricket\n",
      "Americans watch Baseball\n",
      "Americans watch cricket\n",
      "Indians Play Baseball\n",
      "Indians Play cricket\n",
      "Indians watch Baseball\n",
      "Indians watch cricket\n"
     ]
    }
   ],
   "source": [
    "subject=[\"Americans\", \"Indians\"]\n",
    "verb=[\"Play\", \"watch\"]\n",
    "obj=[\"Baseball\",\"cricket\"]\n",
    "\n",
    "#By Loops\n",
    "sentence_list=[]\n",
    "for sub in subject:\n",
    "    for vb in verb:\n",
    "        for  ob in obj:\n",
    "            l=sub+\" \"+ vb + \" \" + ob\n",
    "            sentence_list.append(l)\n",
    "            \n",
    "for sentence in sentence_list:\n",
    "    print (sentence)"
   ]
  },
  {
   "cell_type": "code",
   "execution_count": null,
   "metadata": {
    "colab": {},
    "colab_type": "code",
    "id": "HrgRqx_Oya0h"
   },
   "outputs": [],
   "source": []
  }
 ],
 "metadata": {
  "colab": {
   "authorship_tag": "ABX9TyNhPoBkKcFpdaWEzdf0ZOoy",
   "collapsed_sections": [],
   "name": "Python_Assingment_ExecptionHandling.ipynb",
   "provenance": []
  },
  "kernelspec": {
   "display_name": "Python 3",
   "language": "python",
   "name": "python3"
  },
  "language_info": {
   "codemirror_mode": {
    "name": "ipython",
    "version": 3
   },
   "file_extension": ".py",
   "mimetype": "text/x-python",
   "name": "python",
   "nbconvert_exporter": "python",
   "pygments_lexer": "ipython3",
   "version": "3.7.1"
  }
 },
 "nbformat": 4,
 "nbformat_minor": 1
}
