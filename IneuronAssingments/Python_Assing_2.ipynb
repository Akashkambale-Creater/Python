{
 "cells": [
  {
   "cell_type": "markdown",
   "metadata": {
    "colab_type": "text",
    "id": "ZttXd4g51Dqa"
   },
   "source": [
    "1. Create the below pattern using nested for loop in Python.\n",
    "\n",
    "*\n",
    "\n",
    "* *\n",
    "\n",
    "* * *\n",
    "* * * *\n",
    "* * * * *\n",
    "* * * *\n",
    "* * *\n",
    "* *\n",
    "*"
   ]
  },
  {
   "cell_type": "code",
   "execution_count": null,
   "metadata": {
    "colab": {
     "base_uri": "https://localhost:8080/",
     "height": 35
    },
    "colab_type": "code",
    "executionInfo": {
     "elapsed": 1332,
     "status": "ok",
     "timestamp": 1592658287314,
     "user": {
      "displayName": "Akash Kambale",
      "photoUrl": "",
      "userId": "14874975310828514712"
     },
     "user_tz": -330
    },
    "id": "tSxG5Uhy1ERc",
    "outputId": "ce5b488b-3a6e-46e0-dee7-dffc66a72886"
   },
   "outputs": [
    {
     "data": {
      "text/plain": [
       "'1. Create the below pattern using nested for loop in Python.\\n\\n*\\n* *\\n* * *\\n* * * *\\n* * * * *\\n* * * *\\n* * *\\n* *\\n*'"
      ]
     },
     "execution_count": 1,
     "metadata": {
      "tags": []
     },
     "output_type": "execute_result"
    }
   ],
   "source": [
    "'''1. Create the below pattern using nested for loop in Python.\n",
    "\n",
    "*\n",
    "* *\n",
    "* * *\n",
    "* * * *\n",
    "* * * * *\n",
    "* * * *\n",
    "* * *\n",
    "* *\n",
    "*'''"
   ]
  },
  {
   "cell_type": "code",
   "execution_count": null,
   "metadata": {
    "colab": {
     "base_uri": "https://localhost:8080/",
     "height": 235
    },
    "colab_type": "code",
    "executionInfo": {
     "elapsed": 1013,
     "status": "ok",
     "timestamp": 1592658288519,
     "user": {
      "displayName": "Akash Kambale",
      "photoUrl": "",
      "userId": "14874975310828514712"
     },
     "user_tz": -330
    },
    "id": "6J53mgNI1LOu",
    "outputId": "776aba69-7ba9-4fc7-a322-1a608742ac44"
   },
   "outputs": [
    {
     "name": "stdout",
     "output_type": "stream",
     "text": [
      "\n",
      "*\n",
      "**\n",
      "***\n",
      "****\n",
      "*****\n",
      "******\n",
      "*****\n",
      "****\n",
      "***\n",
      "**\n",
      "*"
     ]
    }
   ],
   "source": [
    "\n",
    "for i in range(1,6):\n",
    "      print(\"\")\n",
    "      for j in range(i):\n",
    "            print(\"*\",end=\"\")\n",
    "else:\n",
    "    for k in range(6,0,-1):\n",
    "        print(\"\")\n",
    "        for l in range(k):\n",
    "            print(\"*\",end=\"\") "
   ]
  },
  {
   "cell_type": "markdown",
   "metadata": {
    "colab_type": "text",
    "id": "IrfMSLqC1QjL"
   },
   "source": [
    "2. Write a Python program to reverse a word after accepting the input from the user.\n",
    "\n",
    "Input word: ineuron\n",
    "\n",
    "Output: norueni"
   ]
  },
  {
   "cell_type": "code",
   "execution_count": null,
   "metadata": {
    "colab": {
     "base_uri": "https://localhost:8080/",
     "height": 53
    },
    "colab_type": "code",
    "executionInfo": {
     "elapsed": 9023,
     "status": "ok",
     "timestamp": 1592658323918,
     "user": {
      "displayName": "Akash Kambale",
      "photoUrl": "",
      "userId": "14874975310828514712"
     },
     "user_tz": -330
    },
    "id": "r5b85HOG1NtI",
    "outputId": "708f1b0a-d730-472a-c829-27bd73c6298b"
   },
   "outputs": [
    {
     "name": "stdout",
     "output_type": "stream",
     "text": [
      "Enter a Word ineuron\n",
      "Reverse Word is norueni\n"
     ]
    }
   ],
   "source": [
    "Input_Word=input('Enter a Word ')\n",
    "Input_Word=Input_Word[::-1]\n",
    "print(f'Reverse Word is {Input_Word}')"
   ]
  },
  {
   "cell_type": "code",
   "execution_count": null,
   "metadata": {
    "colab": {},
    "colab_type": "code",
    "id": "Cma447eh1UYx"
   },
   "outputs": [],
   "source": []
  }
 ],
 "metadata": {
  "colab": {
   "authorship_tag": "ABX9TyOFHFVnzcTGvyh0jjFTEBFw",
   "collapsed_sections": [],
   "name": "Python_Assing_2.ipynb",
   "provenance": []
  },
  "kernelspec": {
   "display_name": "Python 3",
   "language": "python",
   "name": "python3"
  },
  "language_info": {
   "codemirror_mode": {
    "name": "ipython",
    "version": 3
   },
   "file_extension": ".py",
   "mimetype": "text/x-python",
   "name": "python",
   "nbconvert_exporter": "python",
   "pygments_lexer": "ipython3",
   "version": "3.7.1"
  }
 },
 "nbformat": 4,
 "nbformat_minor": 1
}
