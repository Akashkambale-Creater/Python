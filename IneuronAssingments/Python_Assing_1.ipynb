{
 "cells": [
  {
   "cell_type": "markdown",
   "metadata": {
    "colab_type": "text",
    "id": "BktFjGoPz5iu"
   },
   "source": [
    "1. Write a program which will find all such numbers which are divisible by 7 but are not a\n",
    "multiple of 5, between 2000 and 3200 (both included). The numbers obtained should be printed\n",
    "in a comma-separated sequence on a single line"
   ]
  },
  {
   "cell_type": "code",
   "execution_count": 1,
   "metadata": {
    "colab": {
     "base_uri": "https://localhost:8080/",
     "height": 55
    },
    "colab_type": "code",
    "executionInfo": {
     "elapsed": 1335,
     "status": "ok",
     "timestamp": 1592657982715,
     "user": {
      "displayName": "Akash Kambale",
      "photoUrl": "",
      "userId": "14874975310828514712"
     },
     "user_tz": -330
    },
    "id": "XuROb-Lwz8eR",
    "outputId": "5dbe7430-d44c-4776-d326-447b9322403c"
   },
   "outputs": [
    {
     "name": "stdout",
     "output_type": "stream",
     "text": [
      "2030,2065,2100,2135,2170,2205,2240,2275,2310,2345,2380,2415,2450,2485,2520,2555,2590,2625,2660,2695,2730,2765,2800,2835,2870,2905,2940,2975,3010,3045,3080,3115,3150,3185\n"
     ]
    }
   ],
   "source": [
    "l=[]\n",
    "\n",
    "for i in range(2000,3200):\n",
    "    if (i%7==0)and (i%5==0):\n",
    "        l.append(str(i))\n",
    "        \n",
    "print(','.join(l))        "
   ]
  },
  {
   "cell_type": "markdown",
   "metadata": {
    "colab_type": "text",
    "id": "sPDlgC_R0FQl"
   },
   "source": [
    "2. Write a Python program to accept the users first aand last name aand then getting them\n",
    "    printed ina the the reverse order witah a space between first name aand last name."
   ]
  },
  {
   "cell_type": "code",
   "execution_count": 2,
   "metadata": {
    "colab": {
     "base_uri": "https://localhost:8080/",
     "height": 72
    },
    "colab_type": "code",
    "executionInfo": {
     "elapsed": 11519,
     "status": "ok",
     "timestamp": 1592658072229,
     "user": {
      "displayName": "Akash Kambale",
      "photoUrl": "",
      "userId": "14874975310828514712"
     },
     "user_tz": -330
    },
    "id": "AXaNeaaV0Ewh",
    "outputId": "18e76c51-6585-43ee-b684-3596fdba7ac3"
   },
   "outputs": [
    {
     "name": "stdout",
     "output_type": "stream",
     "text": [
      "Enter a First Name Akash \n",
      "Enter a Last Name Kamble\n",
      "First Name is  hsakA and Last Name is elbmaK\n"
     ]
    }
   ],
   "source": [
    "First_Name=input('Enter a First Name ')\n",
    "Last_Name=input('Enter a Last Name ')\n",
    "First_Name=First_Name[::-1]\n",
    "Last_Name=Last_Name[::-1]\n",
    "print(f'First Name is {First_Name} and Last Name is {Last_Name}')"
   ]
  },
  {
   "cell_type": "code",
   "execution_count": 3,
   "metadata": {
    "colab": {
     "base_uri": "https://localhost:8080/",
     "height": 72
    },
    "colab_type": "code",
    "executionInfo": {
     "elapsed": 16722,
     "status": "ok",
     "timestamp": 1592658090555,
     "user": {
      "displayName": "Akash Kambale",
      "photoUrl": "",
      "userId": "14874975310828514712"
     },
     "user_tz": -330
    },
    "id": "oAMmPlGPz_0h",
    "outputId": "c0e76cd9-1114-4064-86dc-fae295a92efc"
   },
   "outputs": [
    {
     "name": "stdout",
     "output_type": "stream",
     "text": [
      "Enter a First Name Akash \n",
      "Enter a Last Name Kamble\n",
      " hsakA  elbmaK\n"
     ]
    }
   ],
   "source": [
    "First_Name=input('Enter a First Name ')\n",
    "Last_Name=input('Enter a Last Name ')\n",
    "First_Name=First_Name[::-1]\n",
    "Last_Name=Last_Name[::-1]\n",
    "print(f'{First_Name}  {Last_Name}')"
   ]
  },
  {
   "cell_type": "code",
   "execution_count": 5,
   "metadata": {
    "colab": {
     "base_uri": "https://localhost:8080/",
     "height": 72
    },
    "colab_type": "code",
    "executionInfo": {
     "elapsed": 9092,
     "status": "ok",
     "timestamp": 1592658179530,
     "user": {
      "displayName": "Akash Kambale",
      "photoUrl": "",
      "userId": "14874975310828514712"
     },
     "user_tz": -330
    },
    "id": "CZMmabOs0N7I",
    "outputId": "8a3f8595-1a8d-4d35-bf38-0ba221909cfd"
   },
   "outputs": [
    {
     "name": "stdout",
     "output_type": "stream",
     "text": [
      "Enter a First Name Akash\n",
      "Enter a Last Name Kamble\n",
      "Kamble  Akash\n"
     ]
    }
   ],
   "source": [
    "First_Name=input('Enter a First Name ')\n",
    "Last_Name=input('Enter a Last Name ')\n",
    "First ,Last =Last_Name , First_Name\n",
    "print(f'{First}  {Last}')"
   ]
  },
  {
   "cell_type": "markdown",
   "metadata": {
    "colab_type": "text",
    "id": "FKRfkt4q0Qq6"
   },
   "source": [
    "\n",
    "3. Write a Python program to find the volume of a sphere with diameter 12 cm.\n",
    "Formula: V=4/3 * π * r**3"
   ]
  },
  {
   "cell_type": "code",
   "execution_count": 6,
   "metadata": {
    "colab": {
     "base_uri": "https://localhost:8080/",
     "height": 35
    },
    "colab_type": "code",
    "executionInfo": {
     "elapsed": 1232,
     "status": "ok",
     "timestamp": 1592658184950,
     "user": {
      "displayName": "Akash Kambale",
      "photoUrl": "",
      "userId": "14874975310828514712"
     },
     "user_tz": -330
    },
    "id": "cLdz-80R0Tec",
    "outputId": "a71243b5-31ca-4356-94d0-74d0c2bb6ff9"
   },
   "outputs": [
    {
     "data": {
      "text/plain": [
       "904.3199999999999"
      ]
     },
     "execution_count": 6,
     "metadata": {
      "tags": []
     },
     "output_type": "execute_result"
    }
   ],
   "source": [
    "diameter =12\n",
    "r=diameter/2\n",
    "π=3.14\n",
    "V=4/3 * π * r**3\n",
    "V"
   ]
  },
  {
   "cell_type": "code",
   "execution_count": null,
   "metadata": {
    "colab": {},
    "colab_type": "code",
    "id": "qTlWGSOi00XV"
   },
   "outputs": [],
   "source": []
  }
 ],
 "metadata": {
  "colab": {
   "authorship_tag": "ABX9TyNC82fj0xMb4l4fpp5axXLp",
   "collapsed_sections": [],
   "name": "Python_Assing_1.ipynb",
   "provenance": []
  },
  "kernelspec": {
   "display_name": "Python 3",
   "language": "python",
   "name": "python3"
  },
  "language_info": {
   "codemirror_mode": {
    "name": "ipython",
    "version": 3
   },
   "file_extension": ".py",
   "mimetype": "text/x-python",
   "name": "python",
   "nbconvert_exporter": "python",
   "pygments_lexer": "ipython3",
   "version": "3.7.1"
  }
 },
 "nbformat": 4,
 "nbformat_minor": 1
}
